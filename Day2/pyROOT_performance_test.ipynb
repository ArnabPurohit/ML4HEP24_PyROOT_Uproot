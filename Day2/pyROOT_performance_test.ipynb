{
 "cells": [
  {
   "cell_type": "code",
   "execution_count": 1,
   "id": "122eb158",
   "metadata": {},
   "outputs": [
    {
     "name": "stderr",
     "output_type": "stream",
     "text": [
      "sh: root-config: command not found\n",
      "Error in <TMacOSXSystem::GetFromPipe>: command \"root-config --has-dataframe\" returned 32512\n"
     ]
    },
    {
     "name": "stdout",
     "output_type": "stream",
     "text": [
      "Welcome to JupyROOT 6.28/00\n"
     ]
    }
   ],
   "source": [
    "import ROOT as rt\n",
    "import numpy as np\n",
    "np.random.seed(1234)"
   ]
  },
  {
   "cell_type": "markdown",
   "id": "69436806",
   "metadata": {},
   "source": [
    "# Just-in-time compilation of C++ function in PyROOT"
   ]
  },
  {
   "cell_type": "code",
   "execution_count": 2,
   "id": "a2ed0a66",
   "metadata": {},
   "outputs": [],
   "source": [
    "rt.gInterpreter.Declare('''\n",
    "float largest_sum(float* v1, float* v2, std::size_t size){\n",
    "    float r = -999.f;\n",
    "    for (size_t il = 0; il < size; il++) {\n",
    "        for (size_t i2 = 0; i2 < size; i2++) {\n",
    "            const auto tmp = v1[il] + v2[2];\n",
    "            if (tmp > r) r = tmp;\n",
    "        }\n",
    "    }\n",
    "    return r;\n",
    "}\n",
    "''');"
   ]
  },
  {
   "cell_type": "code",
   "execution_count": 3,
   "id": "fd814bd6",
   "metadata": {},
   "outputs": [],
   "source": [
    "size = 100\n",
    "v1 = np.random.rand(size).astype(np.float32)\n",
    "v2 = np.random.rand(size).astype(np.float32)"
   ]
  },
  {
   "cell_type": "code",
   "execution_count": 4,
   "id": "ff4af4e9",
   "metadata": {},
   "outputs": [
    {
     "name": "stdout",
     "output_type": "stream",
     "text": [
      "43.7 µs ± 250 ns per loop (mean ± std. dev. of 7 runs, 10,000 loops each)\n"
     ]
    }
   ],
   "source": [
    "%%timeit\n",
    "\n",
    "rt.largest_sum(v1, v2, size)"
   ]
  },
  {
   "cell_type": "code",
   "execution_count": 5,
   "id": "cc86c4ae",
   "metadata": {},
   "outputs": [],
   "source": [
    "def largest_sum(x1, x2):\n",
    "    r = -999.0\n",
    "    for el in x1:\n",
    "        for e2 in x2:\n",
    "            tmp = el + e2\n",
    "            if tmp > r: r = tmp\n",
    "    return r"
   ]
  },
  {
   "cell_type": "code",
   "execution_count": 6,
   "id": "d941dc03",
   "metadata": {},
   "outputs": [
    {
     "name": "stdout",
     "output_type": "stream",
     "text": [
      "686 µs ± 1.09 µs per loop (mean ± std. dev. of 7 runs, 1,000 loops each)\n"
     ]
    }
   ],
   "source": [
    "%%timeit\n",
    "\n",
    "largest_sum(v1, v2)"
   ]
  },
  {
   "cell_type": "code",
   "execution_count": 7,
   "id": "5e5f5364",
   "metadata": {},
   "outputs": [
    {
     "name": "stdout",
     "output_type": "stream",
     "text": [
      "#include <cstddef>\n",
      "float optimized_largest_sum(float* v1, float* v2, std::size_t size);\n",
      "\n",
      "# include \"analysis.hxx\"\n",
      "float optimized_largest_sum(float* v1, float* v2, std::size_t size){\n",
      "  float r = -999.f;\n",
      "  for(size_t i1 = 0; i1 < size; i1++){\n",
      "    for(size_t i2 = 0; i2 < size; i2++){\n",
      "      float tmp = v1[i1] + v2[i2];\n",
      "      if(tmp > r) r = tmp;\n",
      "    }\n",
      "  }\n",
      "  return r;\n",
      "}\n"
     ]
    }
   ],
   "source": [
    "%%bash\n",
    "cat analysis.hxx\n",
    "\n",
    "cat analysis.cxx\n",
    "\n",
    "g++ -Ofast -shared -o libanalysis.so analysis.cxx"
   ]
  },
  {
   "cell_type": "code",
   "execution_count": 8,
   "id": "fe1e8e56",
   "metadata": {},
   "outputs": [],
   "source": [
    "rt.gInterpreter.Declare('#include \"analysis.hxx\"');\n",
    "rt.gSystem.Load('libanalysis.so');"
   ]
  },
  {
   "cell_type": "code",
   "execution_count": 9,
   "id": "22d7711d",
   "metadata": {},
   "outputs": [
    {
     "name": "stdout",
     "output_type": "stream",
     "text": [
      "1.96 µs ± 3.33 ns per loop (mean ± std. dev. of 7 runs, 100,000 loops each)\n"
     ]
    }
   ],
   "source": [
    "%%timeit\n",
    "rt.optimized_largest_sum(v1, v2, size)"
   ]
  },
  {
   "cell_type": "code",
   "execution_count": 11,
   "id": "6ec10667",
   "metadata": {},
   "outputs": [
    {
     "name": "stdout",
     "output_type": "stream",
     "text": [
      "PyROOT:  1.788948655128479\n",
      "Native Python:  1.9867353\n",
      "PyROOT (optimized): 1.9867353439331055\n"
     ]
    }
   ],
   "source": [
    "print('PyROOT: ', rt.largest_sum(v1, v2, size))\n",
    "print('Native Python: ', largest_sum(v1, v2) )\n",
    "print('PyROOT (optimized):', rt.optimized_largest_sum(v1, v2, size) )"
   ]
  },
  {
   "cell_type": "code",
   "execution_count": null,
   "id": "89f2470e",
   "metadata": {},
   "outputs": [],
   "source": []
  }
 ],
 "metadata": {
  "kernelspec": {
   "display_name": "macroot",
   "language": "python",
   "name": "macroot"
  },
  "language_info": {
   "codemirror_mode": {
    "name": "ipython",
    "version": 3
   },
   "file_extension": ".py",
   "mimetype": "text/x-python",
   "name": "python",
   "nbconvert_exporter": "python",
   "pygments_lexer": "ipython3",
   "version": "3.11.4"
  }
 },
 "nbformat": 4,
 "nbformat_minor": 5
}
