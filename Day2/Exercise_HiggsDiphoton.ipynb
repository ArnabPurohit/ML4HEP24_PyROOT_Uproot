{
 "cells": [
  {
   "cell_type": "markdown",
   "id": "6b95739f",
   "metadata": {},
   "source": [
    "## The Higgs to two photons analysis from the ATLAS Open Data 2020 release, with RDataFrame.\n",
    "\n",
    "This tutorial is the Higgs to two photons analysis from the ATLAS Open Data release in 2020 (http://opendata.atlas.cern/release/2020/documentation/). The data was taken with the ATLAS detector during 2016 at a center-of-mass energy of 13 TeV. Although the Higgs to two photons decay is very rare, the contribution of the Higgs can be seen as a narrow peak around 125 GeV because of the excellent reconstruction and identification efficiency of photons at the ATLAS experiment.\n",
    "\n",
    "The analysis is translated to a RDataFrame workflow processing 1.7 GB of simulated events and data."
   ]
  },
  {
   "cell_type": "code",
   "execution_count": 2,
   "id": "d5c96224",
   "metadata": {},
   "outputs": [],
   "source": [
    "import ROOT\n",
    "import os\n",
    " \n",
    "# Enable multi-threading\n",
    "ROOT.ROOT.EnableImplicitMT()"
   ]
  },
  {
   "cell_type": "code",
   "execution_count": 3,
   "id": "1677ac64",
   "metadata": {},
   "outputs": [],
   "source": [
    "# Create a ROOT dataframe for each dataset\n",
    "path = \"root://eospublic.cern.ch//eos/opendata/atlas/OutreachDatasets/2020-01-22\"\n",
    "df = {}\n",
    "df[\"data\"] = ROOT.RDataFrame(\"mini\", (os.path.join(path, \"GamGam/Data/data_{}.GamGam.root\".format(x)) for x in (\"A\", \"B\", \"C\", \"D\")))\n",
    "df[\"ggH\"] = ROOT.RDataFrame(\"mini\", os.path.join(path, \"GamGam/MC/mc_343981.ggH125_gamgam.GamGam.root\"))\n",
    "df[\"VBF\"] = ROOT.RDataFrame(\"mini\", os.path.join(path, \"GamGam/MC/mc_345041.VBFH125_gamgam.GamGam.root\"))\n",
    "processes = list(df.keys())"
   ]
  },
  {
   "cell_type": "code",
   "execution_count": 4,
   "id": "2b9d1bd6",
   "metadata": {},
   "outputs": [],
   "source": [
    "# Apply scale factors and MC weight for simulated events and a weight of 1 for the data\n",
    "for p in [\"ggH\", \"VBF\"]:\n",
    "    df[p] = df[p].Define(\"weight\",\n",
    "            \"scaleFactor_PHOTON * scaleFactor_PhotonTRIGGER * scaleFactor_PILEUP * mcWeight\");\n",
    "df[\"data\"] = df[\"data\"].Define(\"weight\", \"1.0\")"
   ]
  },
  {
   "cell_type": "code",
   "execution_count": 10,
   "id": "abf81fc6",
   "metadata": {},
   "outputs": [],
   "source": [
    "# Select the events for the analysis\n",
    "for p in processes:\n",
    "    # Apply preselection cut on photon trigger\n",
    "    df[p] = df[p].Filter(\"trigP\")\n",
    " \n",
    "    # Find two good muons with tight ID, pt > 25 GeV and not in the transition region between barrel and encap\n",
    "    df[p] = df[p].Define(\"goodphotons\", \"photon_isTightID && (photon_pt > 25000) && (abs(photon_eta) < 2.37) && ((abs(photon_eta) < 1.37) || (abs(photon_eta) > 1.52))\").Filter(\"Sum(goodphotons) == 2\")\n",
    " \n",
    "    # Take only isolated photons\n",
    "    df[p] = df[p].Filter(\"Sum(photon_ptcone30[goodphotons] / photon_pt[goodphotons] < 0.065) == 2\").Filter(\"Sum(photon_etcone20[goodphotons] / photon_pt[goodphotons] < 0.065) == 2\")"
   ]
  },
  {
   "cell_type": "code",
   "execution_count": 11,
   "id": "3c2b9d72",
   "metadata": {},
   "outputs": [
    {
     "data": {
      "text/plain": [
       "True"
      ]
     },
     "execution_count": 11,
     "metadata": {},
     "output_type": "execute_result"
    }
   ],
   "source": [
    "# Compile a function to compute the invariant mass of the diphoton system\n",
    "ROOT.gInterpreter.Declare(\n",
    "\"\"\"\n",
    "using namespace ROOT;\n",
    "float ComputeInvariantMass(RVecF pt, RVecF eta, RVecF phi, RVecF e) {\n",
    "    ROOT::Math::PtEtaPhiEVector p1(pt[0], eta[0], phi[0], e[0]);\n",
    "    ROOT::Math::PtEtaPhiEVector p2(pt[1], eta[1], phi[1], e[1]);\n",
    "    return (p1 + p2).mass() / 1000.0;\n",
    "}\n",
    "\"\"\")"
   ]
  },
  {
   "cell_type": "code",
   "execution_count": 12,
   "id": "62ef7f5b",
   "metadata": {},
   "outputs": [],
   "source": [
    "# Define a new column with the invariant mass and perform final event selection\n",
    "hists = {}\n",
    "for p in processes:\n",
    "    # Make four vectors and compute invariant mass\n",
    "    df[p] = df[p].Define(\"m_yy\", \"ComputeInvariantMass(photon_pt[goodphotons], photon_eta[goodphotons], photon_phi[goodphotons], photon_E[goodphotons])\")\n",
    " \n",
    "    # Make additional kinematic cuts and select mass window\n",
    "    df[p] = df[p].Filter(\"photon_pt[goodphotons][0] / 1000.0 / m_yy > 0.35\")\\\n",
    "                 .Filter(\"photon_pt[goodphotons][1] / 1000.0 / m_yy > 0.25\")\\\n",
    "                 .Filter(\"m_yy > 105 && m_yy < 160\")\n",
    " \n",
    "    # Book histogram of the invariant mass with this selection\n",
    "    hists[p] = df[p].Histo1D(\n",
    "            ROOT.RDF.TH1DModel(p, \"Diphoton invariant mass; m_{#gamma#gamma} [GeV];Events\", 30, 105, 160),\n",
    "            \"m_yy\", \"weight\")\n"
   ]
  },
  {
   "cell_type": "code",
   "execution_count": 13,
   "id": "1414029c",
   "metadata": {},
   "outputs": [],
   "source": [
    "# Run the event loop\n",
    " \n",
    "# RunGraphs allows to run the event loops of the separate RDataFrame graphs\n",
    "# concurrently. This results in an improved usage of the available resources\n",
    "# if each separate RDataFrame can not utilize all available resources, e.g.,\n",
    "# because not enough data is available.\n",
    "ROOT.RDF.RunGraphs([hists[s] for s in [\"ggH\", \"VBF\", \"data\"]])\n",
    " \n",
    "ggh = hists[\"ggH\"].GetValue()\n",
    "vbf = hists[\"VBF\"].GetValue()\n",
    "data = hists[\"data\"].GetValue()\n",
    " \n",
    "# Create the plot\n",
    " \n",
    "# Set styles\n",
    "ROOT.gROOT.SetStyle(\"ATLAS\")"
   ]
  },
  {
   "cell_type": "code",
   "execution_count": 14,
   "id": "a43daae0",
   "metadata": {},
   "outputs": [],
   "source": [
    "# Create canvas with pads for main plot and data/MC ratio\n",
    "c = ROOT.TCanvas(\"c\", \"\", 700, 750)\n",
    " \n",
    "upper_pad = ROOT.TPad(\"upper_pad\", \"\", 0, 0.35, 1, 1)\n",
    "lower_pad = ROOT.TPad(\"lower_pad\", \"\", 0, 0, 1, 0.35)\n",
    "for p in [upper_pad, lower_pad]:\n",
    "    p.SetLeftMargin(0.14)\n",
    "    p.SetRightMargin(0.05)\n",
    "    p.SetTickx(False)\n",
    "    p.SetTicky(False)\n",
    "upper_pad.SetBottomMargin(0)\n",
    "lower_pad.SetTopMargin(0)\n",
    "lower_pad.SetBottomMargin(0.3)\n",
    " \n",
    "upper_pad.Draw()\n",
    "lower_pad.Draw()"
   ]
  },
  {
   "cell_type": "code",
   "execution_count": 15,
   "id": "20cbae28",
   "metadata": {},
   "outputs": [
    {
     "data": {
      "text/plain": [
       "<cppyy.gbl.TFitResultPtr object at 0x6000019fe5e0>"
      ]
     },
     "execution_count": 15,
     "metadata": {},
     "output_type": "execute_result"
    },
    {
     "name": "stdout",
     "output_type": "stream",
     "text": [
      " FCN=19.9699 FROM HESSE     STATUS=NOT POSDEF     23 CALLS         158 TOTAL\n",
      "                     EDM=4.97694e-13    STRATEGY= 1      ERR MATRIX NOT POS-DEF\n",
      "  EXT PARAMETER                APPROXIMATE        STEP         FIRST   \n",
      "  NO.   NAME      VALUE            ERROR          SIZE      DERIVATIVE \n",
      "   1  p0           9.43251e+04   7.20524e+01   2.24889e-02   4.08986e-09\n",
      "   2  p1          -1.77722e+03   7.78153e-01   4.23723e-04  -6.03572e-07\n",
      "   3  p2           1.15606e+01   5.36059e-03   2.75626e-06  -5.63464e-05\n",
      "   4  p3          -2.56281e-02   2.66823e-05   6.11022e-09   1.22585e-02\n",
      "   5  p4           1.19100e+02     fixed    \n",
      "   6  p5           1.25000e+02     fixed    \n",
      "   7  p6           2.39000e+00     fixed    \n"
     ]
    },
    {
     "name": "stderr",
     "output_type": "stream",
     "text": [
      "Error in <TFitResultPtr>: TFitResult is empty - use the fit option S\n",
      "Error in <TFitResultPtr>: TFitResult is empty - use the fit option S\n",
      "Error in <TFitResultPtr>: TFitResult is empty - use the fit option S\n",
      "Error in <TFitResultPtr>: TFitResult is empty - use the fit option S\n",
      "Error in <TFitResultPtr>: TFitResult is empty - use the fit option S\n",
      "Error in <TFitResultPtr>: TFitResult is empty - use the fit option S\n",
      "Error in <TFitResultPtr>: TFitResult is empty - use the fit option S\n",
      "Error in <TFitResultPtr>: TFitResult is empty - use the fit option S\n",
      "Error in <TFitResultPtr>: TFitResult is empty - use the fit option S\n",
      "Error in <TFitResultPtr>: TFitResult is empty - use the fit option S\n",
      "Error in <TFitResultPtr>: TFitResult is empty - use the fit option S\n",
      "Error in <TFitResultPtr>: TFitResult is empty - use the fit option S\n",
      "Error in <TFitResultPtr>: TFitResult is empty - use the fit option S\n",
      "Error in <TFitResultPtr>: TFitResult is empty - use the fit option S\n",
      "Error in <TFitResultPtr>: TFitResult is empty - use the fit option S\n",
      "Error in <TFitResultPtr>: TFitResult is empty - use the fit option S\n",
      "Error in <TFitResultPtr>: TFitResult is empty - use the fit option S\n",
      "Error in <TFitResultPtr>: TFitResult is empty - use the fit option S\n",
      "Error in <TFitResultPtr>: TFitResult is empty - use the fit option S\n",
      "Error in <TFitResultPtr>: TFitResult is empty - use the fit option S\n",
      "Error in <TFitResultPtr>: TFitResult is empty - use the fit option S\n",
      "Error in <TFitResultPtr>: TFitResult is empty - use the fit option S\n"
     ]
    }
   ],
   "source": [
    "# Fit signal + background model to data\n",
    "fit = ROOT.TF1(\"fit\", \"([0]+[1]*x+[2]*x^2+[3]*x^3)+[4]*exp(-0.5*((x-[5])/[6])^2)\", 105, 160)\n",
    "fit.FixParameter(5, 125.0)\n",
    "fit.FixParameter(4, 119.1)\n",
    "fit.FixParameter(6, 2.39)\n",
    "fit.SetLineColor(2)\n",
    "fit.SetLineStyle(1)\n",
    "fit.SetLineWidth(2)\n",
    "data.Fit(\"fit\", \"0\", \"\", 105, 160)"
   ]
  },
  {
   "cell_type": "code",
   "execution_count": 16,
   "id": "df67fde6",
   "metadata": {},
   "outputs": [],
   "source": [
    "# Draw data\n",
    "upper_pad.cd()\n",
    "data.SetMarkerStyle(20)\n",
    "data.SetMarkerSize(1.2)\n",
    "data.SetLineWidth(2)\n",
    "data.SetLineColor(ROOT.kBlack)\n",
    "data.SetMinimum(1e-3)\n",
    "data.SetMaximum(8e3)\n",
    "data.GetYaxis().SetLabelSize(0.045)\n",
    "data.GetYaxis().SetTitleSize(0.05)\n",
    "data.SetStats(0)\n",
    "data.SetTitle(\"\")\n",
    "data.Draw(\"E\")"
   ]
  },
  {
   "cell_type": "code",
   "execution_count": 17,
   "id": "666e4464",
   "metadata": {},
   "outputs": [],
   "source": [
    "# Draw fit\n",
    "fit.Draw(\"SAME\")\n",
    " \n",
    "# Draw background\n",
    "bkg = ROOT.TF1(\"bkg\", \"([0]+[1]*x+[2]*x^2+[3]*x^3)\", 105, 160)\n",
    "for i in range(4):\n",
    "    bkg.SetParameter(i, fit.GetParameter(i))\n",
    "bkg.SetLineColor(4)\n",
    "bkg.SetLineStyle(2)\n",
    "bkg.SetLineWidth(2)\n",
    "bkg.Draw(\"SAME\")"
   ]
  },
  {
   "cell_type": "code",
   "execution_count": 18,
   "id": "7f5b23e6",
   "metadata": {},
   "outputs": [],
   "source": [
    "# Scale simulated events with luminosity * cross-section / sum of weights\n",
    "# and merge to single Higgs signal\n",
    "lumi = 10064.0\n",
    "ggh.Scale(lumi * 0.102 / 55922617.6297)\n",
    "vbf.Scale(lumi * 0.008518764 / 3441426.13711)\n",
    "higgs = ggh.Clone()\n",
    "higgs.Add(vbf)\n",
    "higgs.Draw(\"HIST SAME\")"
   ]
  },
  {
   "cell_type": "code",
   "execution_count": 20,
   "id": "eeee73c1",
   "metadata": {},
   "outputs": [
    {
     "name": "stderr",
     "output_type": "stream",
     "text": [
      "Warning in <TROOT::Append>: Replacing existing TH1: zero (Potential memory leak).\n"
     ]
    }
   ],
   "source": [
    "# Draw ratio\n",
    "lower_pad.cd()\n",
    " \n",
    "ratiobkg = ROOT.TH1I(\"zero\", \"\", 100, 105, 160)\n",
    "ratiobkg.SetLineColor(4)\n",
    "ratiobkg.SetLineStyle(2)\n",
    "ratiobkg.SetLineWidth(2)\n",
    "ratiobkg.SetMinimum(-125)\n",
    "ratiobkg.SetMaximum(250)\n",
    "ratiobkg.GetXaxis().SetLabelSize(0.08)\n",
    "ratiobkg.GetXaxis().SetTitleSize(0.12)\n",
    "ratiobkg.GetXaxis().SetTitleOffset(1.0)\n",
    "ratiobkg.GetYaxis().SetLabelSize(0.08)\n",
    "ratiobkg.GetYaxis().SetTitleSize(0.09)\n",
    "ratiobkg.GetYaxis().SetTitle(\"Data - Bkg.\")\n",
    "ratiobkg.GetYaxis().CenterTitle()\n",
    "ratiobkg.GetYaxis().SetTitleOffset(0.7)\n",
    "ratiobkg.GetYaxis().SetNdivisions(503, False)\n",
    "ratiobkg.GetYaxis().ChangeLabel(-1, -1, 0)\n",
    "ratiobkg.GetXaxis().SetTitle(\"m_{#gamma#gamma} [GeV]\")\n",
    "ratiobkg.Draw(\"AXIS\")\n",
    "\n",
    "ratiosig = ROOT.TH1F(\"ratiosig\", \"ratiosig\", 5500, 105, 160)\n",
    "ratiosig.Eval(fit)\n",
    "ratiosig.SetLineColor(2)\n",
    "ratiosig.SetLineStyle(1)\n",
    "ratiosig.SetLineWidth(2)\n",
    "ratiosig.Add(bkg, -1)\n",
    "ratiosig.Draw(\"SAME\")\n",
    " \n",
    "ratiodata = data.Clone()\n",
    "ratiodata.Add(bkg, -1)\n",
    "for i in range(1, data.GetNbinsX()):\n",
    "    ratiodata.SetBinError(i, data.GetBinError(i))\n",
    "ratiodata.Draw(\"E SAME\")"
   ]
  },
  {
   "cell_type": "code",
   "execution_count": 21,
   "id": "9d8bf6a4",
   "metadata": {},
   "outputs": [],
   "source": [
    "# Add legend\n",
    "upper_pad.cd()\n",
    "legend = ROOT.TLegend(0.55, 0.55, 0.89, 0.85)\n",
    "legend.SetTextFont(42)\n",
    "legend.SetFillStyle(0)\n",
    "legend.SetBorderSize(0)\n",
    "legend.SetTextSize(0.05)\n",
    "legend.SetTextAlign(32)\n",
    "legend.AddEntry(data, \"Data\" ,\"lep\")\n",
    "legend.AddEntry(bkg, \"Background\", \"l\")\n",
    "legend.AddEntry(fit, \"Signal + Bkg.\", \"l\")\n",
    "legend.AddEntry(higgs, \"Signal\", \"l\")\n",
    "legend.Draw()"
   ]
  },
  {
   "cell_type": "code",
   "execution_count": 22,
   "id": "c56cace0",
   "metadata": {},
   "outputs": [
    {
     "data": {
      "text/plain": [
       "<cppyy.gbl.TLatex object at 0x60000641d500>"
      ]
     },
     "execution_count": 22,
     "metadata": {},
     "output_type": "execute_result"
    }
   ],
   "source": [
    "# Add ATLAS label\n",
    "text = ROOT.TLatex()\n",
    "text.SetNDC()\n",
    "text.SetTextFont(72)\n",
    "text.SetTextSize(0.05)\n",
    "text.DrawLatex(0.18, 0.84, \"ATLAS\")\n",
    "text.SetTextFont(42)\n",
    "text.DrawLatex(0.18 + 0.13, 0.84, \"Open Data\")\n",
    "text.SetTextSize(0.04)\n",
    "text.DrawLatex(0.18, 0.78, \"#sqrt{s} = 13 TeV, 10 fb^{-1}\")"
   ]
  },
  {
   "cell_type": "code",
   "execution_count": 23,
   "id": "0c7e8240",
   "metadata": {},
   "outputs": [
    {
     "data": {
      "image/png": "[encoded data removed]",
      "text/plain": [
       "<IPython.core.display.Image object>"
      ]
     },
     "metadata": {},
     "output_type": "display_data"
    }
   ],
   "source": [
    "c.Draw()"
   ]
  },
  {
   "cell_type": "code",
   "execution_count": 25,
   "id": "501a31f8",
   "metadata": {},
   "outputs": [
    {
     "name": "stdout",
     "output_type": "stream",
     "text": [
      "Saved figure to HiggsToTwoPhotons.png\n"
     ]
    },
    {
     "name": "stderr",
     "output_type": "stream",
     "text": [
      "Info in <TCanvas::Print>: png file HiggsToTwoPhotons.png has been created\n"
     ]
    }
   ],
   "source": [
    "c.SaveAs(\"HiggsToTwoPhotons.png\")\n",
    "print(\"Saved figure to HiggsToTwoPhotons.png\")"
   ]
  },
  {
   "cell_type": "code",
   "execution_count": null,
   "id": "7711a77e",
   "metadata": {},
   "outputs": [],
   "source": []
  }
 ],
 "metadata": {
  "kernelspec": {
   "display_name": "macroot",
   "language": "python",
   "name": "macroot"
  },
  "language_info": {
   "codemirror_mode": {
    "name": "ipython",
    "version": 3
   },
   "file_extension": ".py",
   "mimetype": "text/x-python",
   "name": "python",
   "nbconvert_exporter": "python",
   "pygments_lexer": "ipython3",
   "version": "3.11.4"
  }
 },
 "nbformat": 4,
 "nbformat_minor": 5
}
