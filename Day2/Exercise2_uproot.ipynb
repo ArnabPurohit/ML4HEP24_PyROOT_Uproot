{
 "cells": [
  {
   "cell_type": "code",
   "execution_count": 5,
   "id": "db6c3654",
   "metadata": {},
   "outputs": [],
   "source": [
    "import uproot\n",
    "import numpy as np"
   ]
  },
  {
   "cell_type": "code",
   "execution_count": 8,
   "id": "0d448528",
   "metadata": {},
   "outputs": [],
   "source": [
    "output1 = uproot.recreate(\"new-root_file.root\")"
   ]
  },
  {
   "cell_type": "code",
   "execution_count": 9,
   "id": "9453f7a9",
   "metadata": {},
   "outputs": [],
   "source": [
    "output1[\"some_string\"] = \"This will be a TObjString.\"\n",
    "\n",
    "output1[\"tree1\"] = {\n",
    "    \"x\": np.random.randint(0, 10, 1000000),\n",
    "    \"y\": np.random.normal(0, 1, 1000000),\n",
    "}"
   ]
  },
  {
   "cell_type": "code",
   "execution_count": null,
   "id": "deb903e9",
   "metadata": {},
   "outputs": [],
   "source": []
  }
 ],
 "metadata": {
  "kernelspec": {
   "display_name": "macroot",
   "language": "python",
   "name": "macroot"
  },
  "language_info": {
   "codemirror_mode": {
    "name": "ipython",
    "version": 3
   },
   "file_extension": ".py",
   "mimetype": "text/x-python",
   "name": "python",
   "nbconvert_exporter": "python",
   "pygments_lexer": "ipython3",
   "version": "3.11.4"
  }
 },
 "nbformat": 4,
 "nbformat_minor": 5
}
