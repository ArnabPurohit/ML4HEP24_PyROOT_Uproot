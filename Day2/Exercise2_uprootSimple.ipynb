{
 "cells": [
  {
   "cell_type": "code",
   "execution_count": null,
   "id": "7686938d",
   "metadata": {},
   "outputs": [],
   "source": [
    "import uproot\n",
    "\n",
    "file = uproot.open('../Day1/pyROOT_exercise1.root')"
   ]
  },
  {
   "cell_type": "markdown",
   "id": "1a7dd915",
   "metadata": {},
   "source": [
    "This “file” object actually represents a directory, and the named objects in that directory are accessible with a dict-like interface. Thus, keys, values, and items return the key names and/or read the data. If you want to just list the objects without reading, use keys."
   ]
  },
  {
   "cell_type": "code",
   "execution_count": null,
   "id": "f43cc0cd",
   "metadata": {},
   "outputs": [],
   "source": [
    "file.keys()"
   ]
  },
  {
   "cell_type": "code",
   "execution_count": null,
   "id": "1b0ed460",
   "metadata": {},
   "outputs": [],
   "source": [
    "file.classnames()"
   ]
  },
  {
   "cell_type": "code",
   "execution_count": null,
   "id": "6add23b7",
   "metadata": {},
   "outputs": [],
   "source": [
    "t = file[\"tree\"]\n",
    "t.show()"
   ]
  },
  {
   "cell_type": "code",
   "execution_count": null,
   "id": "dc73ebf2",
   "metadata": {},
   "outputs": [],
   "source": [
    "t[\"px\"].typename"
   ]
  },
  {
   "cell_type": "code",
   "execution_count": null,
   "id": "e9c537e1",
   "metadata": {},
   "outputs": [],
   "source": [
    "t[\"energy\"].interpretation"
   ]
  },
  {
   "cell_type": "code",
   "execution_count": null,
   "id": "cb19ab3d",
   "metadata": {},
   "outputs": [],
   "source": [
    "my_px = t[\"px\"].array()"
   ]
  },
  {
   "cell_type": "code",
   "execution_count": null,
   "id": "bf9fb99a",
   "metadata": {},
   "outputs": [],
   "source": [
    "print(type(my_px))"
   ]
  },
  {
   "cell_type": "code",
   "execution_count": null,
   "id": "cf578a9d",
   "metadata": {},
   "outputs": [],
   "source": [
    "my_py = t[\"py\"].array(entry_start=10, entry_stop=20)"
   ]
  },
  {
   "cell_type": "code",
   "execution_count": null,
   "id": "10c007d9",
   "metadata": {},
   "outputs": [],
   "source": [
    "print(len(my_py[0]))"
   ]
  },
  {
   "cell_type": "code",
   "execution_count": null,
   "id": "4baeefd6",
   "metadata": {},
   "outputs": [],
   "source": [
    "import matplotlib.pyplot as plt"
   ]
  },
  {
   "cell_type": "code",
   "execution_count": null,
   "id": "1f8c3744",
   "metadata": {},
   "outputs": [],
   "source": [
    "# Extract the branch 'px'\n",
    "px_branch = t[\"px\"].array(entry_start=10, entry_stop=20)\n",
    "print(px_branch.to_list())\n"
   ]
  },
  {
   "cell_type": "code",
   "execution_count": null,
   "id": "0ec38030",
   "metadata": {},
   "outputs": [],
   "source": [
    "# Plot the histogram\n",
    "plt.hist(px_branch[0], bins=50, histtype='step', label='px')\n",
    "plt.xlabel('px')\n",
    "plt.ylabel('Frequency')\n",
    "plt.title('Histogram of px')\n",
    "plt.legend()\n",
    "plt.show()"
   ]
  },
  {
   "cell_type": "code",
   "execution_count": null,
   "id": "d665256e",
   "metadata": {},
   "outputs": [],
   "source": []
  },
  {
   "cell_type": "code",
   "execution_count": null,
   "id": "15de3df7",
   "metadata": {},
   "outputs": [],
   "source": [
    "part_np = t.arrays(library=\"np\", entry_stop=10000)"
   ]
  },
  {
   "cell_type": "code",
   "execution_count": null,
   "id": "9832951d",
   "metadata": {},
   "outputs": [],
   "source": [
    "part_pd = t.arrays(library=\"pd\", entry_stop=10000)"
   ]
  },
  {
   "cell_type": "code",
   "execution_count": null,
   "id": "7525e6e4",
   "metadata": {},
   "outputs": [],
   "source": []
  }
 ],
 "metadata": {
  "kernelspec": {
   "display_name": "macroot",
   "language": "python",
   "name": "macroot"
  },
  "language_info": {
   "codemirror_mode": {
    "name": "ipython",
    "version": 3
   },
   "file_extension": ".py",
   "mimetype": "text/x-python",
   "name": "python",
   "nbconvert_exporter": "python",
   "pygments_lexer": "ipython3",
   "version": "3.11.4"
  }
 },
 "nbformat": 4,
 "nbformat_minor": 5
}
