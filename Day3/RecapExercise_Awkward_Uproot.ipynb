{
 "cells": [
  {
   "cell_type": "markdown",
   "id": "0c7c3c0b",
   "metadata": {},
   "source": [
    "# RECAP Uproot and Akward"
   ]
  },
  {
   "cell_type": "markdown",
   "id": "b5ac9b12",
   "metadata": {},
   "source": [
    "## 1. Creating Arrays\n",
    "### You can create Awkward Arrays from Python lists, nested lists, or other iterable data structures:"
   ]
  },
  {
   "cell_type": "code",
   "execution_count": 1,
   "id": "f08a2403",
   "metadata": {},
   "outputs": [
    {
     "name": "stdout",
     "output_type": "stream",
     "text": [
      "Array 1: [1, 2, 3, 4, 5]\n",
      "Array 2: [[1, 2, 3], [4, 5], [6, 7, 8]]\n"
     ]
    }
   ],
   "source": [
    "import awkward as ak\n",
    "\n",
    "# Creating arrays from lists\n",
    "array1 = ak.Array([1, 2, 3, 4, 5])\n",
    "\n",
    "# Creating arrays from nested lists\n",
    "nested_list = [[1, 2, 3], [4, 5], [6, 7, 8]]\n",
    "array2 = ak.Array(nested_list)\n",
    "\n",
    "print(\"Array 1:\", array1)\n",
    "print(\"Array 2:\", array2)"
   ]
  },
  {
   "cell_type": "markdown",
   "id": "a5ae81ae",
   "metadata": {},
   "source": [
    "## 2. Accessing Elements\n",
    "### You can access elements using indexing, slicing, and boolean indexing:"
   ]
  },
  {
   "cell_type": "code",
   "execution_count": 2,
   "id": "e619edac",
   "metadata": {},
   "outputs": [
    {
     "name": "stdout",
     "output_type": "stream",
     "text": [
      "First element of Array 1: 1\n",
      "Slice of Array 1: [2, 3, 4]\n",
      "Elements of Array 1 greater than 3: [4, 5]\n"
     ]
    }
   ],
   "source": [
    "# Indexing\n",
    "print(\"First element of Array 1:\", array1[0])\n",
    "\n",
    "# Slicing\n",
    "print(\"Slice of Array 1:\", array1[1:4])\n",
    "\n",
    "# Boolean indexing\n",
    "mask = array1 > 3\n",
    "print(\"Elements of Array 1 greater than 3:\", array1[mask])"
   ]
  },
  {
   "cell_type": "markdown",
   "id": "076b203b",
   "metadata": {},
   "source": [
    "## 3. Operations on Arrays\n",
    "### Concatenation are useful operations:"
   ]
  },
  {
   "cell_type": "code",
   "execution_count": 6,
   "id": "55f0699b",
   "metadata": {},
   "outputs": [
    {
     "name": "stdout",
     "output_type": "stream",
     "text": [
      "Concatenated array: [1, 2, 3, 4, 5, [1, 2, 3], [4, 5], [6, 7, 8]]\n"
     ]
    }
   ],
   "source": [
    "# Concatenation\n",
    "concatenated = ak.concatenate([array1, array2])\n",
    "print(\"Concatenated array:\", concatenated)"
   ]
  },
  {
   "cell_type": "code",
   "execution_count": null,
   "id": "cefbc006",
   "metadata": {},
   "outputs": [],
   "source": []
  },
  {
   "cell_type": "code",
   "execution_count": 8,
   "id": "71db8f56",
   "metadata": {},
   "outputs": [
    {
     "name": "stdout",
     "output_type": "stream",
     "text": [
      "Flattened array 2: [1, 2, 3, 4, 5, 6, 7, 8]\n"
     ]
    }
   ],
   "source": [
    "# Reshaping\n",
    "reshaped_array = ak.flatten(array2)\n",
    "print(\"Flattened array 2:\", reshaped_array)"
   ]
  },
  {
   "cell_type": "code",
   "execution_count": 9,
   "id": "6aacadb1",
   "metadata": {},
   "outputs": [
    {
     "name": "stdout",
     "output_type": "stream",
     "text": [
      "Original Array:\n",
      " [[1, 2, 3], [4, 5], [6, 7, 8]]\n",
      "Transposed Array:\n",
      " [[1, 4, 6], [2, 5, 7], [3, 8]]\n"
     ]
    }
   ],
   "source": [
    "# Example nested list (equivalent to a 2D array in NumPy)\n",
    "nested_list = [[1, 2, 3], [4, 5], [6, 7, 8]]\n",
    "\n",
    "# Convert to Awkward Array\n",
    "array = ak.Array(nested_list)\n",
    "\n",
    "# Get the length of each inner list (lengths can vary in each dimension)\n",
    "inner_lengths = ak.num(array)\n",
    "\n",
    "# Determine the maximum length among all inner lists\n",
    "max_length = ak.max(inner_lengths)\n",
    "\n",
    "# Initialize an empty list to hold transposed elements\n",
    "transposed = [[] for _ in range(max_length)]\n",
    "\n",
    "# Loop over each element in the array\n",
    "for sublist in array:\n",
    "    for i, value in enumerate(sublist):\n",
    "        transposed[i].append(value)\n",
    "\n",
    "# Convert transposed list to Awkward Array\n",
    "transposed_array = ak.Array(transposed)\n",
    "\n",
    "print(\"Original Array:\\n\", array)\n",
    "print(\"Transposed Array:\\n\", transposed_array)"
   ]
  },
  {
   "cell_type": "code",
   "execution_count": null,
   "id": "1dbf6d71",
   "metadata": {},
   "outputs": [],
   "source": []
  }
 ],
 "metadata": {
  "kernelspec": {
   "display_name": "macroot",
   "language": "python",
   "name": "macroot"
  },
  "language_info": {
   "codemirror_mode": {
    "name": "ipython",
    "version": 3
   },
   "file_extension": ".py",
   "mimetype": "text/x-python",
   "name": "python",
   "nbconvert_exporter": "python",
   "pygments_lexer": "ipython3",
   "version": "3.11.4"
  }
 },
 "nbformat": 4,
 "nbformat_minor": 5
}
